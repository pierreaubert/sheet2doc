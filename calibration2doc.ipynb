{
 "cells": [
  {
   "cell_type": "code",
   "execution_count": null,
   "id": "07bebdc1-eef6-422e-a54a-ad2e579593ce",
   "metadata": {},
   "outputs": [],
   "source": [
    "import pandas as pd"
   ]
  },
  {
   "cell_type": "code",
   "execution_count": null,
   "id": "c8b0ca2e-4404-4e56-9fcc-c0ef8541662f",
   "metadata": {},
   "outputs": [],
   "source": [
    "sheetname = '[Confidential] Calibration sheet - L6 Acceleration & OS (Group 1) - CALIBRATION GROUP.csv'\n",
    "mdname = sheetname[:-3]+'md'\n",
    "datas = pd.read_csv(sheetname)"
   ]
  },
  {
   "cell_type": "code",
   "execution_count": null,
   "id": "1f024c6e-4f06-4d26-a7bb-24611b0ee3de",
   "metadata": {},
   "outputs": [],
   "source": [
    "def template(row):\n",
    "    return \"\"\"\n",
    "# {person}\n",
    "{level} {title}\n",
    "Manager: {manager}\n",
    "\n",
    "## Competencies\n",
    "\n",
    "### ROLE Competencies {role_comp_rating}\n",
    "\n",
    "{role_comp_expl}\n",
    "\n",
    "### LEADERSHIP Competencies {role_comp_rating}\n",
    "\n",
    "{role_comp_expl}\n",
    "\n",
    "## Impact\n",
    "\n",
    "### OKRs\n",
    "\n",
    "{okrs}\n",
    "\n",
    "### Blockers\n",
    "\n",
    "{blockers}\n",
    "\n",
    "## Development Areas\n",
    "\n",
    "{development_areas}\n",
    "\n",
    "## Others Comments\n",
    "\n",
    "{others}\n",
    "\n",
    "## Feedback and Final Rating\n",
    "\n",
    "WNH:\n",
    "WNL:\n",
    "\n",
    "Rating: \n",
    "\n",
    "\"\"\".format(\n",
    "    person=row['Employee Name'],\n",
    "    manager=row['Manager Name'],\n",
    "    title=row['Employee Job Title'],\n",
    "    level=row['Employee Job Title Level'],\n",
    "    role_comp_rating=row['ROLE Competencies Rating'],\n",
    "    role_comp_expl=row['ROLE Competencies Explanation'],\n",
    "    leader_comp_rating=row['LEADERSHIP Competencies Rating'],\n",
    "    leader_comp_expl=row['LEADERSHIP Competencies Explanation'],\n",
    "    external_feedback=row['External Feedback'],\n",
    "    okrs=row['OKRs Rating'],\n",
    "    blockers=row['Blockers/Challenges'],\t\n",
    "    development_areas=row['Development Areas'],\n",
    "    others=row['Any other comments'],\n",
    ")"
   ]
  },
  {
   "cell_type": "code",
   "execution_count": null,
   "id": "a297ddb5-5074-4994-8a42-15e6cc9387ab",
   "metadata": {},
   "outputs": [],
   "source": [
    "with open(mdname, \"w\") as fd:\n",
    "    for i in range(0, datas.shape[0]):\n",
    "        row = datas.iloc[i]\n",
    "        fd.write(template(row))"
   ]
  },
  {
   "cell_type": "code",
   "execution_count": null,
   "id": "b0c56e82-85d8-4650-92ec-1b91d9d4fda2",
   "metadata": {},
   "outputs": [],
   "source": [
    "for i in range(0, datas.shape[0]):\n",
    "    row = datas.iloc[i]\n",
    "    print(template(row))"
   ]
  },
  {
   "cell_type": "code",
   "execution_count": null,
   "id": "158f5a01-7dc1-4ac5-9d1d-325145c3e01e",
   "metadata": {},
   "outputs": [],
   "source": []
  }
 ],
 "metadata": {
  "kernelspec": {
   "display_name": "Python 3 (ipykernel)",
   "language": "python",
   "name": "python3"
  },
  "language_info": {
   "codemirror_mode": {
    "name": "ipython",
    "version": 3
   },
   "file_extension": ".py",
   "mimetype": "text/x-python",
   "name": "python",
   "nbconvert_exporter": "python",
   "pygments_lexer": "ipython3",
   "version": "3.12.5"
  }
 },
 "nbformat": 4,
 "nbformat_minor": 5
}
