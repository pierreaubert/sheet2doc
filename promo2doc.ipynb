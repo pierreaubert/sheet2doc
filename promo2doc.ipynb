{
 "cells": [
  {
   "cell_type": "code",
   "execution_count": null,
   "id": "07bebdc1-eef6-422e-a54a-ad2e579593ce",
   "metadata": {},
   "outputs": [],
   "source": [
    "import pandas as pd"
   ]
  },
  {
   "cell_type": "code",
   "execution_count": null,
   "id": "c8b0ca2e-4404-4e56-9fcc-c0ef8541662f",
   "metadata": {},
   "outputs": [],
   "source": [
    "sheetname = 'Promotion Committee Survey for Team Leads (Responses) - Form responses 1.csv'\n",
    "mdname = sheetname[:-3]+'md'\n",
    "datas = pd.read_csv(sheetname)"
   ]
  },
  {
   "cell_type": "code",
   "execution_count": null,
   "id": "1f024c6e-4f06-4d26-a7bb-24611b0ee3de",
   "metadata": {},
   "outputs": [],
   "source": [
    "def header():\n",
    "    return \"\"\"\n",
    "# [NTK, Confidential] Promo committee \n",
    "\n",
    "- Members:\n",
    "- Date:\n",
    "- State:\n",
    "- Version:\n",
    "\n",
    "    \"\"\"\n",
    "\n",
    "def template(row):\n",
    "    return \"\"\"\n",
    "# {person}\n",
    "\n",
    "- Current **{current_level}** Proposed **{next_level}**\n",
    "- Previous rating **{prev_rating}**\n",
    "- Is Function Lead supportive: **{is_supportive}**. Does Function Lead have a budget: **{has_budget}**.\n",
    "- If this person gets a promotion, will they still sit in your team and will a backfill be required?\n",
    "    > {backfill}\n",
    "\n",
    "## Packet\n",
    "\n",
    "### Readiness\n",
    "\n",
    "{readiness}\n",
    "\n",
    "### Summary\n",
    "\n",
    "{summary}\n",
    "\n",
    "### Differentiation\n",
    "\n",
    "{differentiation}\n",
    "\n",
    "### Challenges\n",
    "\n",
    "{challenges}\n",
    "\n",
    "### Others\n",
    "\n",
    "{last_info}\n",
    "\n",
    "## Feedback and Decision (**Yes**/**No**): \n",
    "\n",
    "\n",
    "\"\"\".format(\n",
    "    person=row['Nominee name'],\n",
    "    team=row['Team name'],\n",
    "    current_level=row['Nominee current level'],\n",
    "    next_level=row['Proposed new level'],\n",
    "    prev_rating=row['What was their rating in the most recent performance management cycle?'],\n",
    "    is_supportive=row['Is your Function Lead aware of this nomination and supportive of the level increase?'],\n",
    "    has_budget=row['Has your Function lead confirmed that a budget exists for this new level?'],    \n",
    "    readiness=row['''Please share 1-2 examples of the nominee's key achievements which demonstrate their readiness for a level increase.'''],    \n",
    "    summary=row['''Please summarise the key highlights from the nominee's Core, Role & (if relevant) Leadership competencies in the most recent performance cycle.'''],    \n",
    "    differentiation=row['''Why do you believe this individual should be promoted at this time? What differentiates them from others at the same level?'''],    \n",
    "    challenges=row['Are there any potential challenges or areas of development the nominee should address before and/or after promotion?'],\n",
    "    backfill=row['If this person gets a promotion, will they still sit in your team and will a backfill be required?'],\n",
    "    business_need=row['What is the business need for this new level in your team? Do you have any active hiring in your team for this level and, if yes, will this person replace the hiring need?'],\n",
    "    last_info=row['Do you have any other information to add to this nomination?'],\n",
    ")"
   ]
  },
  {
   "cell_type": "code",
   "execution_count": null,
   "id": "a297ddb5-5074-4994-8a42-15e6cc9387ab",
   "metadata": {},
   "outputs": [],
   "source": [
    "with open(mdname, \"w\") as fd:\n",
    "    fd.write(header())\n",
    "    for i in range(0, datas.shape[0]):\n",
    "        row = datas.iloc[i]\n",
    "        fd.write(template(row))"
   ]
  },
  {
   "cell_type": "code",
   "execution_count": null,
   "id": "b0c56e82-85d8-4650-92ec-1b91d9d4fda2",
   "metadata": {},
   "outputs": [],
   "source": [
    "for i in range(0, datas.shape[0]):\n",
    "    row = datas.iloc[i]\n",
    "    print(template(row))"
   ]
  },
  {
   "cell_type": "code",
   "execution_count": null,
   "id": "158f5a01-7dc1-4ac5-9d1d-325145c3e01e",
   "metadata": {},
   "outputs": [],
   "source": []
  },
  {
   "cell_type": "code",
   "execution_count": null,
   "id": "b8f254b7-b063-4ba5-84c2-bb427f8ae09f",
   "metadata": {},
   "outputs": [],
   "source": []
  }
 ],
 "metadata": {
  "kernelspec": {
   "display_name": "Python 3 (ipykernel)",
   "language": "python",
   "name": "python3"
  },
  "language_info": {
   "codemirror_mode": {
    "name": "ipython",
    "version": 3
   },
   "file_extension": ".py",
   "mimetype": "text/x-python",
   "name": "python",
   "nbconvert_exporter": "python",
   "pygments_lexer": "ipython3",
   "version": "3.12.5"
  }
 },
 "nbformat": 4,
 "nbformat_minor": 5
}
